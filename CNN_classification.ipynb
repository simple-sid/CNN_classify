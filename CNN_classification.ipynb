{
 "cells": [
  {
   "cell_type": "code",
   "execution_count": 2,
   "id": "ee4ed121",
   "metadata": {},
   "outputs": [],
   "source": [
    "import tensorflow as tf\n",
    "from tensorflow.keras import datasets, layers, models\n",
    "import matplotlib.pyplot as plt\n",
    "import numpy as np"
   ]
  },
  {
   "cell_type": "code",
   "execution_count": 3,
   "id": "e5d70e85",
   "metadata": {},
   "outputs": [
    {
     "data": {
      "text/plain": [
       "(50000, 32, 32, 3)"
      ]
     },
     "execution_count": 3,
     "metadata": {},
     "output_type": "execute_result"
    }
   ],
   "source": [
    "(X_train, y_train), (X_test,y_test) = datasets.cifar10.load_data()\n",
    "X_train.shape"
   ]
  },
  {
   "cell_type": "code",
   "execution_count": 4,
   "id": "e95a95b1",
   "metadata": {},
   "outputs": [
    {
     "data": {
      "text/plain": [
       "(10000, 32, 32, 3)"
      ]
     },
     "execution_count": 4,
     "metadata": {},
     "output_type": "execute_result"
    }
   ],
   "source": [
    "X_test.shape"
   ]
  },
  {
   "cell_type": "code",
   "execution_count": 5,
   "id": "9202678b",
   "metadata": {},
   "outputs": [
    {
     "data": {
      "text/plain": [
       "(50000, 1)"
      ]
     },
     "execution_count": 5,
     "metadata": {},
     "output_type": "execute_result"
    }
   ],
   "source": [
    "y_train.shape"
   ]
  },
  {
   "cell_type": "code",
   "execution_count": 6,
   "id": "1b10cdd1",
   "metadata": {},
   "outputs": [
    {
     "data": {
      "text/plain": [
       "array([[6],\n",
       "       [9],\n",
       "       [9],\n",
       "       [4],\n",
       "       [1]], dtype=uint8)"
      ]
     },
     "execution_count": 6,
     "metadata": {},
     "output_type": "execute_result"
    }
   ],
   "source": [
    "y_train[:5]"
   ]
  },
  {
   "cell_type": "code",
   "execution_count": 7,
   "id": "ffc4bd91",
   "metadata": {},
   "outputs": [
    {
     "data": {
      "text/plain": [
       "array([6, 9, 9, 4, 1], dtype=uint8)"
      ]
     },
     "execution_count": 7,
     "metadata": {},
     "output_type": "execute_result"
    }
   ],
   "source": [
    "y_train = y_train.reshape(-1,)\n",
    "y_train[:5]"
   ]
  },
  {
   "cell_type": "code",
   "execution_count": 8,
   "id": "e699aa32",
   "metadata": {},
   "outputs": [],
   "source": [
    "y_test = y_test.reshape(-1,)"
   ]
  },
  {
   "cell_type": "code",
   "execution_count": 9,
   "id": "b69903fc",
   "metadata": {},
   "outputs": [],
   "source": [
    "classes = [\"airplane\",\"automobile\",\"bird\",\"cat\",\"deer\",\"dog\",\"frog\",\"horse\",\"ship\",\"truck\"]"
   ]
  },
  {
   "cell_type": "code",
   "execution_count": 10,
   "id": "dcd0ed4d",
   "metadata": {},
   "outputs": [],
   "source": [
    "def plot_sample(X, y, index):\n",
    "    plt.figure(figsize = (15,2))\n",
    "    plt.imshow(X[index])\n",
    "    plt.xlabel(classes[y[index]])"
   ]
  },
  {
   "cell_type": "code",
   "execution_count": 11,
   "id": "5a42a067",
   "metadata": {},
   "outputs": [
    {
     "data": {
      "image/png": "[encoded data removed]",
      "text/plain": [
       "<Figure size 1080x144 with 1 Axes>"
      ]
     },
     "metadata": {
      "needs_background": "light"
     },
     "output_type": "display_data"
    }
   ],
   "source": [
    "plot_sample(X_train, y_train, 3)"
   ]
  },
  {
   "cell_type": "code",
   "execution_count": 12,
   "id": "c7899e1c",
   "metadata": {},
   "outputs": [
    {
     "data": {
      "image/png": "[encoded data removed]",
      "text/plain": [
       "<Figure size 1080x144 with 1 Axes>"
      ]
     },
     "metadata": {
      "needs_background": "light"
     },
     "output_type": "display_data"
    }
   ],
   "source": [
    "plot_sample(X_train, y_train, 1)"
   ]
  },
  {
   "cell_type": "code",
   "execution_count": 13,
   "id": "3c524098",
   "metadata": {},
   "outputs": [],
   "source": [
    "X_train = X_train / 255.0\n",
    "X_test = X_test / 255.0"
   ]
  },
  {
   "cell_type": "code",
   "execution_count": 14,
   "id": "23ddd5b5",
   "metadata": {},
   "outputs": [
    {
     "name": "stdout",
     "output_type": "stream",
     "text": [
      "Epoch 1/5\n",
      "1563/1563 [==============================] - 36s 23ms/step - loss: 1.8157 - accuracy: 0.3541\n",
      "Epoch 2/5\n",
      "1563/1563 [==============================] - 43s 28ms/step - loss: 1.6253 - accuracy: 0.4267\n",
      "Epoch 3/5\n",
      "1563/1563 [==============================] - 41s 26ms/step - loss: 1.5412 - accuracy: 0.4569\n",
      "Epoch 4/5\n",
      "1563/1563 [==============================] - 38s 25ms/step - loss: 1.4808 - accuracy: 0.4786\n",
      "Epoch 5/5\n",
      "1563/1563 [==============================] - 38s 24ms/step - loss: 1.4326 - accuracy: 0.4959\n"
     ]
    },
    {
     "data": {
      "text/plain": [
       "<keras.callbacks.History at 0x2846ad0df10>"
      ]
     },
     "execution_count": 14,
     "metadata": {},
     "output_type": "execute_result"
    }
   ],
   "source": [
    "ann = models.Sequential([\n",
    "        layers.Flatten(input_shape=(32,32,3)),\n",
    "        layers.Dense(3000, activation='relu'),\n",
    "        layers.Dense(1000, activation='relu'),\n",
    "        layers.Dense(10, activation='softmax')    \n",
    "    ])\n",
    "\n",
    "ann.compile(optimizer='SGD',\n",
    "              loss='sparse_categorical_crossentropy',\n",
    "              metrics=['accuracy'])\n",
    "\n",
    "ann.fit(X_train, y_train, epochs=5)"
   ]
  },
  {
   "cell_type": "code",
   "execution_count": 15,
   "id": "a27df529",
   "metadata": {},
   "outputs": [
    {
     "name": "stdout",
     "output_type": "stream",
     "text": [
      "Classification Report: \n",
      "               precision    recall  f1-score   support\n",
      "\n",
      "           0       0.64      0.47      0.54      1000\n",
      "           1       0.32      0.89      0.47      1000\n",
      "           2       0.43      0.27      0.33      1000\n",
      "           3       0.33      0.42      0.37      1000\n",
      "           4       0.51      0.26      0.35      1000\n",
      "           5       0.54      0.21      0.30      1000\n",
      "           6       0.40      0.71      0.51      1000\n",
      "           7       0.68      0.43      0.53      1000\n",
      "           8       0.67      0.44      0.54      1000\n",
      "           9       0.54      0.32      0.40      1000\n",
      "\n",
      "    accuracy                           0.44     10000\n",
      "   macro avg       0.51      0.44      0.43     10000\n",
      "weighted avg       0.51      0.44      0.43     10000\n",
      "\n"
     ]
    }
   ],
   "source": [
    "from sklearn.metrics import confusion_matrix , classification_report\n",
    "import numpy as np\n",
    "y_pred = ann.predict(X_test)\n",
    "y_pred_classes = [np.argmax(element) for element in y_pred]\n",
    "\n",
    "print(\"Classification Report: \\n\", classification_report(y_test, y_pred_classes))"
   ]
  },
  {
   "cell_type": "code",
   "execution_count": 16,
   "id": "5b99a46f",
   "metadata": {},
   "outputs": [],
   "source": [
    "cnn = models.Sequential([\n",
    "    layers.Conv2D(filters=32, kernel_size=(3, 3), activation='relu', input_shape=(32, 32, 3)),\n",
    "    layers.MaxPooling2D((2, 2)),\n",
    "    \n",
    "    layers.Conv2D(filters=64, kernel_size=(3, 3), activation='relu'),\n",
    "    layers.MaxPooling2D((2, 2)),\n",
    "    \n",
    "    layers.Flatten(),\n",
    "    layers.Dense(64, activation='relu'),\n",
    "    layers.Dense(10, activation='softmax')\n",
    "])"
   ]
  },
  {
   "cell_type": "code",
   "execution_count": 17,
   "id": "f33944dd",
   "metadata": {},
   "outputs": [],
   "source": [
    "cnn.compile(optimizer='adam',\n",
    "              loss='sparse_categorical_crossentropy',\n",
    "              metrics=['accuracy'])"
   ]
  },
  {
   "cell_type": "code",
   "execution_count": 18,
   "id": "61499061",
   "metadata": {},
   "outputs": [
    {
     "name": "stdout",
     "output_type": "stream",
     "text": [
      "Epoch 1/10\n",
      "1563/1563 [==============================] - 17s 11ms/step - loss: 1.4640 - accuracy: 0.4696\n",
      "Epoch 2/10\n",
      "1563/1563 [==============================] - 17s 11ms/step - loss: 1.1049 - accuracy: 0.6137\n",
      "Epoch 3/10\n",
      "1563/1563 [==============================] - 17s 11ms/step - loss: 0.9733 - accuracy: 0.6610\n",
      "Epoch 4/10\n",
      "1563/1563 [==============================] - 17s 11ms/step - loss: 0.8867 - accuracy: 0.6915\n",
      "Epoch 5/10\n",
      "1563/1563 [==============================] - 17s 11ms/step - loss: 0.8219 - accuracy: 0.7165\n",
      "Epoch 6/10\n",
      "1563/1563 [==============================] - 17s 11ms/step - loss: 0.7659 - accuracy: 0.7340\n",
      "Epoch 7/10\n",
      "1563/1563 [==============================] - 17s 11ms/step - loss: 0.7115 - accuracy: 0.7544\n",
      "Epoch 8/10\n",
      "1563/1563 [==============================] - 17s 11ms/step - loss: 0.6684 - accuracy: 0.7668\n",
      "Epoch 9/10\n",
      "1563/1563 [==============================] - 17s 11ms/step - loss: 0.6234 - accuracy: 0.7836\n",
      "Epoch 10/10\n",
      "1563/1563 [==============================] - 17s 11ms/step - loss: 0.5821 - accuracy: 0.7947\n"
     ]
    },
    {
     "data": {
      "text/plain": [
       "<keras.callbacks.History at 0x2846d561940>"
      ]
     },
     "execution_count": 18,
     "metadata": {},
     "output_type": "execute_result"
    }
   ],
   "source": [
    "cnn.fit(X_train, y_train, epochs=10)"
   ]
  },
  {
   "cell_type": "code",
   "execution_count": 19,
   "id": "bf23704e",
   "metadata": {},
   "outputs": [
    {
     "name": "stdout",
     "output_type": "stream",
     "text": [
      "313/313 [==============================] - 1s 3ms/step - loss: 0.9749 - accuracy: 0.6870\n"
     ]
    },
    {
     "data": {
      "text/plain": [
       "[0.9749382734298706, 0.6869999766349792]"
      ]
     },
     "execution_count": 19,
     "metadata": {},
     "output_type": "execute_result"
    }
   ],
   "source": [
    "cnn.evaluate(X_test,y_test)"
   ]
  },
  {
   "cell_type": "code",
   "execution_count": 20,
   "id": "e24d45fd",
   "metadata": {},
   "outputs": [
    {
     "data": {
      "text/plain": [
       "array([[3.9382819e-03, 1.5142412e-04, 3.3078546e-04, 9.0835202e-01,\n",
       "        2.3163570e-04, 4.7352824e-02, 1.5457615e-02, 9.1960410e-06,\n",
       "        2.3683539e-02, 4.9263961e-04],\n",
       "       [1.5709238e-02, 1.3164078e-01, 1.4237338e-06, 2.6401736e-07,\n",
       "        2.1220146e-08, 1.6223435e-09, 1.2664157e-10, 7.8876167e-10,\n",
       "        8.5206676e-01, 5.8148004e-04],\n",
       "       [9.5004857e-02, 4.9623367e-01, 2.7006359e-03, 9.3602566e-03,\n",
       "        2.3129291e-03, 1.7475280e-03, 1.9895313e-03, 4.9884617e-03,\n",
       "        3.6573344e-01, 1.9928603e-02],\n",
       "       [9.0201873e-01, 1.2302454e-02, 6.3898077e-04, 6.5098534e-04,\n",
       "        3.5256922e-02, 6.0940602e-06, 9.9924000e-05, 4.5452212e-05,\n",
       "        4.8755836e-02, 2.2455216e-04],\n",
       "       [9.3932670e-08, 1.4817947e-05, 2.3231972e-03, 1.5412106e-02,\n",
       "        7.4646199e-01, 4.5882063e-03, 2.3070730e-01, 1.7347468e-06,\n",
       "        4.8520815e-04, 5.2517225e-06]], dtype=float32)"
      ]
     },
     "execution_count": 20,
     "metadata": {},
     "output_type": "execute_result"
    }
   ],
   "source": [
    "y_pred = cnn.predict(X_test)\n",
    "y_pred[:5]"
   ]
  },
  {
   "cell_type": "code",
   "execution_count": 21,
   "id": "bdbfe74a",
   "metadata": {},
   "outputs": [
    {
     "data": {
      "text/plain": [
       "[3, 8, 1, 0, 4]"
      ]
     },
     "execution_count": 21,
     "metadata": {},
     "output_type": "execute_result"
    }
   ],
   "source": [
    "y_classes = [np.argmax(element) for element in y_pred]\n",
    "y_classes[:5]"
   ]
  },
  {
   "cell_type": "code",
   "execution_count": 22,
   "id": "3fd5fbc9",
   "metadata": {},
   "outputs": [
    {
     "data": {
      "text/plain": [
       "array([3, 8, 8, 0, 6], dtype=uint8)"
      ]
     },
     "execution_count": 22,
     "metadata": {},
     "output_type": "execute_result"
    }
   ],
   "source": [
    "y_test[:5]"
   ]
  },
  {
   "cell_type": "code",
   "execution_count": 23,
   "id": "247e381d",
   "metadata": {},
   "outputs": [
    {
     "data": {
      "image/png": "[encoded data removed]",
      "text/plain": [
       "<Figure size 1080x144 with 1 Axes>"
      ]
     },
     "metadata": {
      "needs_background": "light"
     },
     "output_type": "display_data"
    }
   ],
   "source": [
    "plot_sample(X_test, y_test,3)"
   ]
  },
  {
   "cell_type": "code",
   "execution_count": 24,
   "id": "8e5c8910",
   "metadata": {},
   "outputs": [
    {
     "data": {
      "text/plain": [
       "'airplane'"
      ]
     },
     "execution_count": 24,
     "metadata": {},
     "output_type": "execute_result"
    }
   ],
   "source": [
    "classes[y_classes[3]]"
   ]
  },
  {
   "cell_type": "code",
   "execution_count": 25,
   "id": "70373105",
   "metadata": {},
   "outputs": [],
   "source": [
    "from sklearn.metrics import f1_score, accuracy_score, confusion_matrix"
   ]
  },
  {
   "cell_type": "code",
   "execution_count": null,
   "id": "1266b745",
   "metadata": {},
   "outputs": [],
   "source": []
  }
 ],
 "metadata": {
  "kernelspec": {
   "display_name": "Python 3 (ipykernel)",
   "language": "python",
   "name": "python3"
  },
  "language_info": {
   "codemirror_mode": {
    "name": "ipython",
    "version": 3
   },
   "file_extension": ".py",
   "mimetype": "text/x-python",
   "name": "python",
   "nbconvert_exporter": "python",
   "pygments_lexer": "ipython3",
   "version": "3.9.12"
  }
 },
 "nbformat": 4,
 "nbformat_minor": 5
}
